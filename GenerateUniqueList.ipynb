{
 "cells": [
  {
   "cell_type": "code",
   "execution_count": 1,
   "metadata": {},
   "outputs": [],
   "source": [
    "import random\n",
    "import numpy as np\n",
    "import os\n",
    "from os.path import join\n",
    "from scipy.io import loadmat"
   ]
  },
  {
   "cell_type": "code",
   "execution_count": 2,
   "metadata": {},
   "outputs": [],
   "source": [
    "def is_true(s):\n",
    "    return s == 'True'"
   ]
  },
  {
   "cell_type": "code",
   "execution_count": 3,
   "metadata": {},
   "outputs": [],
   "source": [
    "with open('downloads/data/shapenet/status/items_all.txt') as f:\n",
    "    lines = f.read()\n",
    "item_list = lines.split('\\n')[:-1]\n",
    "\n",
    "with open('downloads/data/shapenet/status/is_train.txt') as f:\n",
    "    is_trains = f.read()\n",
    "is_train_list = is_trains.split('\\n')[:-1]\n",
    "\n",
    "with open('downloads/data/shapenet/status/depth.txt') as f:\n",
    "    depths = f.read()\n",
    "has_depth_list = [is_true(v) for v in depths.split('\\n')[:-1]]\n",
    "\n",
    "with open('downloads/data/shapenet/status/depth_minmax.txt') as f:\n",
    "    depth_mms = f.read()\n",
    "has_depth_mm_list = [is_true(v) for v in depth_mms.split('\\n')[:-1]]\n",
    "\n",
    "with open('downloads/data/shapenet/status/normal.txt') as f:\n",
    "    normals = f.read()\n",
    "has_normal_list = [is_true(v) for v in normals.split('\\n')[:-1]]\n",
    "\n",
    "with open('downloads/data/shapenet/status/rgb.txt') as f:\n",
    "    rgbs = f.read()\n",
    "has_rgb_list = [is_true(v) for v in rgbs.split('\\n')[:-1]]\n",
    "\n",
    "with open('downloads/data/shapenet/status/silhou.txt') as f:\n",
    "    silhous = f.read()\n",
    "has_silhou_list = [is_true(v) for v in silhous.split('\\n')[:-1]]\n",
    "\n",
    "with open('downloads/data/shapenet/status/spherical.txt') as f:\n",
    "    sphericals = f.read()\n",
    "has_sph_list = [is_true(v) for v in sphericals.split('\\n')[:-1]]\n",
    "\n",
    "with open('downloads/data/shapenet/status/vox_canon.txt') as f:\n",
    "    vox_cs = f.read()\n",
    "has_voxc_list = [is_true(v) for v in vox_cs.split('\\n')[:-1]]\n",
    "\n",
    "with open('downloads/data/shapenet/status/vox_rot.txt') as f:\n",
    "    vox_rs = f.read()\n",
    "has_voxr_list = [is_true(v) for v in vox_rs.split('\\n')[:-1]]"
   ]
  },
  {
   "cell_type": "code",
   "execution_count": 4,
   "metadata": {},
   "outputs": [],
   "source": [
    "p1 = 'downloads/data/shapenet/status/items_unique_all.txt'\n",
    "p2 = 'downloads/data/shapenet/status/is_train_unique_all.txt'\n",
    "\n",
    "li = []\n",
    "prev = ''\n",
    "with open(p1, 'w') as item_f, open(p2, 'w') as is_train_f:\n",
    "    count = 1\n",
    "    for line, is_train, has_depth, has_depth_mm, has_normal, has_rgb, has_silhou, has_sph, has_voxc, has_voxr in \\\n",
    "    zip(item_list, is_train_list, has_depth_list, has_depth_mm_list, has_normal_list, has_rgb_list, has_silhou_list, has_sph_list, has_voxc_list, has_voxr_list):\n",
    "        temp = line[:line.rfind('_')]\n",
    "        if prev != temp:\n",
    "            if has_depth and has_depth_mm and has_normal and has_rgb and has_silhou and has_sph and has_voxc and has_voxr:\n",
    "                item_f.write(temp + '\\n')\n",
    "                is_train_f.write(is_train + '\\n')\n",
    "            prev = temp\n",
    "            count = 1\n",
    "        else:\n",
    "            count = count + 1"
   ]
  },
  {
   "cell_type": "code",
   "execution_count": 5,
   "metadata": {},
   "outputs": [],
   "source": [
    "p1 = 'downloads/data/shapenet/status/items_unique.txt'\n",
    "p2 = 'downloads/data/shapenet/status/is_train_unique.txt'\n",
    "\n",
    "li = []\n",
    "prev = ''\n",
    "with open(p1, 'w') as item_f, open(p2, 'w') as is_train_f:\n",
    "    count = 1\n",
    "    for line, is_train, has_depth, has_depth_mm, has_normal, has_rgb, has_silhou, has_sph, has_voxc, has_voxr in \\\n",
    "    zip(item_list, is_train_list, has_depth_list, has_depth_mm_list, has_normal_list, has_rgb_list, has_silhou_list, has_sph_list, has_voxc_list, has_voxr_list):\n",
    "        temp = line[:line.rfind('_')]\n",
    "        if line.startswith('03001627'):\n",
    "            if prev != temp:\n",
    "                if has_depth and has_depth_mm and has_normal and has_rgb and has_silhou and has_sph and has_voxc and has_voxr:\n",
    "                    item_f.write(temp + '\\n')\n",
    "                    is_train_f.write(is_train + '\\n')\n",
    "                prev = temp\n",
    "                count = 1\n",
    "            else:\n",
    "                count = count + 1"
   ]
  },
  {
   "cell_type": "code",
   "execution_count": 6,
   "metadata": {},
   "outputs": [
    {
     "name": "stdout",
     "output_type": "stream",
     "text": [
      "Number of objects (3 classes):\n",
      "Train: 12844\n",
      "Test: 1425\n"
     ]
    }
   ],
   "source": [
    "with open('downloads/data/shapenet/status/is_train_unique_all.txt') as f:\n",
    "    uniq_train_line = f.read()\n",
    "uniq_train_list = uniq_train_line.split('\\n')[:-1]\n",
    "\n",
    "print('Number of objects (3 classes):')\n",
    "print('Train: %d' % sum(x == \"True\" for x in uniq_train_list))\n",
    "print('Test: %d' % sum(x == \"False\" for x in uniq_train_list))"
   ]
  },
  {
   "cell_type": "code",
   "execution_count": 7,
   "metadata": {},
   "outputs": [
    {
     "name": "stdout",
     "output_type": "stream",
     "text": [
      "Number of chair objects:\n",
      "Train: 6096\n",
      "Test: 676\n"
     ]
    }
   ],
   "source": [
    "with open('downloads/data/shapenet/status/is_train_unique.txt') as f:\n",
    "    uniq_train_line = f.read()\n",
    "uniq_train_list = uniq_train_line.split('\\n')[:-1]\n",
    "\n",
    "print('Number of chair objects:')\n",
    "print('Train: %d' % sum(x == \"True\" for x in uniq_train_list))\n",
    "print('Test: %d' % sum(x == \"False\" for x in uniq_train_list))"
   ]
  }
 ],
 "metadata": {
  "kernelspec": {
   "display_name": "Python 3",
   "language": "python",
   "name": "python3"
  },
  "language_info": {
   "codemirror_mode": {
    "name": "ipython",
    "version": 3
   },
   "file_extension": ".py",
   "mimetype": "text/x-python",
   "name": "python",
   "nbconvert_exporter": "python",
   "pygments_lexer": "ipython3",
   "version": "3.7.2"
  }
 },
 "nbformat": 4,
 "nbformat_minor": 2
}
